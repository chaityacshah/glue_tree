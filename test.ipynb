{
 "cells": [
  {
   "cell_type": "code",
   "execution_count": 4,
   "metadata": {},
   "outputs": [],
   "source": [
    "%matplotlib inline"
   ]
  },
  {
   "cell_type": "markdown",
   "metadata": {},
   "source": [
    "### Test glue_tree from Newick\n",
    "\n",
    "Change Kernel to `glueviz-dev`."
   ]
  },
  {
   "cell_type": "code",
   "execution_count": 2,
   "metadata": {},
   "outputs": [],
   "source": [
    "from config import *\n",
    "\n",
    "import numpy as np"
   ]
  },
  {
   "cell_type": "code",
   "execution_count": 3,
   "metadata": {},
   "outputs": [
    {
     "name": "stdout",
     "output_type": "stream",
     "text": [
      "Pixel Axis 0 [x] : [ 0  1  2  3  4  5  6  7  8  9 10 11 12 13 14]\n",
      "World 0 : [ 0  1  2  3  4  5  6  7  8  9 10 11 12 13 14]\n",
      "parent : [-1  0  0  0  3  3  0  6  6  8  8  0  0 12 12]\n",
      "names : ['' 'A' 'B' '' 'C' 'D' '' 'E' '' 'F' 'G' 'H' '' 'I' 'J']\n",
      "size : [0.   0.1  0.2  0.5  0.3  0.4  0.35 0.25 0.4  0.1  0.15 0.25 0.3  0.1\n",
      " 0.2 ]\n"
     ]
    }
   ],
   "source": [
    "# parse the example Newick\n",
    "\n",
    "test = read_newick('tmp2.nwk')\n",
    "\n",
    "for ID in test.component_ids():\n",
    "    \n",
    "    print(ID, ':', test[ID])"
   ]
  },
  {
   "cell_type": "code",
   "execution_count": 4,
   "metadata": {},
   "outputs": [],
   "source": [
    "# identify the leafness of each structures\n",
    "\n",
    "leafness = []\n",
    "\n",
    "for pix in range(len(test['parent'])):\n",
    "    \n",
    "    if pix != (len(test['parent'])-1):\n",
    "        leafness.append('leaf' if (test['parent'][pix] >= test['parent'][pix+1]) else 'branch')\n",
    "    else:\n",
    "        leafness.append('leaf')"
   ]
  },
  {
   "cell_type": "code",
   "execution_count": 5,
   "metadata": {},
   "outputs": [],
   "source": [
    "# identify the direct children of each branch\n",
    "\n",
    "children = []\n",
    "\n",
    "idx = np.array(range(len(test['parent'])))\n",
    "\n",
    "for pix in idx:\n",
    "    \n",
    "    if leafness[pix] == 'branch':\n",
    "        \n",
    "        child = idx[(test['parent'] == idx[pix])]\n",
    "        \n",
    "    else:\n",
    "        \n",
    "        child = np.array([])\n",
    "        \n",
    "    children.append(child)"
   ]
  },
  {
   "cell_type": "code",
   "execution_count": 6,
   "metadata": {},
   "outputs": [],
   "source": [
    "# calculate x-positions following astrodendro\n",
    "\n",
    "x_pos = np.zeros(len(test['parent']))\n",
    "\n",
    "idx = np.array(range(len(test['parent'])))\n",
    "\n",
    "## leaves\n",
    "_cached_pos = 1.\n",
    "for pix in idx[(np.array(leafness) == 'leaf')]:\n",
    "    \n",
    "    x_pos[pix] = _cached_pos\n",
    "    _cached_pos += 1.\n",
    "    \n",
    "    \n",
    "nlevels = 5\n",
    "for level in np.array(range(nlevels)):\n",
    "    for pix in idx[(np.array(leafness) == 'branch')]:\n",
    "        \n",
    "        if x_pos[pix] == 0.:\n",
    "            \n",
    "            if np.all(x_pos[children[pix]] != 0.):\n",
    "                \n",
    "                x_pos[pix] = np.mean(x_pos[children[pix]])\n",
    "                \n",
    "            else:\n",
    "                \n",
    "                continue\n",
    "                \n",
    "        else:\n",
    "            \n",
    "            continue\n",
    "    "
   ]
  },
  {
   "cell_type": "code",
   "execution_count": 30,
   "metadata": {},
   "outputs": [],
   "source": [
    "# heights\n",
    "\n",
    "heights = np.zeros(len(test['parent']))\n",
    "\n",
    "idx = np.array(range(len(test['parent'])))\n",
    "\n",
    "for pix in idx:\n",
    "    \n",
    "    heights[idx[(test['parent'] == pix)]] += (test['size'][pix] + heights[pix])\n",
    "    \n",
    "heights = heights + test['size']"
   ]
  },
  {
   "cell_type": "code",
   "execution_count": 31,
   "metadata": {},
   "outputs": [],
   "source": [
    "# vertices for vertical lines\n",
    "\n",
    "verts = []\n",
    "\n",
    "idx = np.array(range(len(test['parent'])))\n",
    "\n",
    "for pix in idx:\n",
    "    \n",
    "    if test['parent'][pix] == -1:\n",
    "        \n",
    "        vert = np.array([[x_pos[pix], 0.],\n",
    "                         [x_pos[pix], heights[pix]]])\n",
    "    \n",
    "    else:\n",
    "        \n",
    "        vert = np.array([[x_pos[pix], heights[test['parent'][pix]]],\n",
    "                         [x_pos[pix], heights[pix]]])\n",
    "    \n",
    "    verts.append(vert)\n",
    "    \n",
    "    \n",
    "# vertices for horizontal lines\n",
    "verts_horiz = []\n",
    "\n",
    "for pix in idx:\n",
    "    \n",
    "    if leafness[pix] == 'branch':\n",
    "        \n",
    "        vert = np.array([[x_pos[idx[(test['parent'] == pix)][0]], heights[pix]],\n",
    "                         [x_pos[idx[(test['parent'] == pix)][-1]], heights[pix]]])\n",
    "        \n",
    "    else:\n",
    "        \n",
    "        continue\n",
    "        \n",
    "    verts_horiz.append(vert)"
   ]
  },
  {
   "cell_type": "code",
   "execution_count": 33,
   "metadata": {},
   "outputs": [
    {
     "data": {
      "image/png": "[encoded data removed]",
      "text/plain": [
       "<Figure size 432x288 with 1 Axes>"
      ]
     },
     "metadata": {},
     "output_type": "display_data"
    }
   ],
   "source": [
    "# test plot\n",
    "import matplotlib.pyplot as plt\n",
    "\n",
    "fig = plt.figure()\n",
    "ax = fig.gca()\n",
    "\n",
    "idx = np.array(range(len(test['parent'])))\n",
    "\n",
    "for pix in idx:\n",
    "    \n",
    "    ax.plot(verts[pix][:, 0],\n",
    "            verts[pix][:, 1],\n",
    "            color = 'k')\n",
    "    \n",
    "for pix in np.array(range(len(verts_horiz))):\n",
    "    \n",
    "    ax.plot(verts_horiz[pix][:, 0],\n",
    "            verts_horiz[pix][:, 1],\n",
    "            color = 'r')"
   ]
  },
  {
   "cell_type": "markdown",
   "metadata": {},
   "source": [
    "______\n",
    "### Test astrodendro\n",
    "\n",
    "Change Kernel to the default."
   ]
  },
  {
   "cell_type": "code",
   "execution_count": 1,
   "metadata": {},
   "outputs": [],
   "source": [
    "import numpy as np\n",
    "\n",
    "from astropy.io import fits\n",
    "from astrodendro import Dendrogram\n",
    "import matplotlib.pyplot as plt\n",
    "#import matplotlib.patches as patches"
   ]
  },
  {
   "cell_type": "code",
   "execution_count": 2,
   "metadata": {},
   "outputs": [
    {
     "name": "stdout",
     "output_type": "stream",
     "text": [
      "obsvL1689_AV.fits obsvL1689_AV.hdf5\r\n"
     ]
    }
   ],
   "source": [
    "!ls data"
   ]
  },
  {
   "cell_type": "code",
   "execution_count": 3,
   "metadata": {},
   "outputs": [
    {
     "name": "stderr",
     "output_type": "stream",
     "text": [
      "//anaconda/lib/python2.7/site-packages/h5py/__init__.py:36: FutureWarning: Conversion of the second argument of issubdtype from `float` to `np.floating` is deprecated. In future, it will be treated as `np.float64 == np.dtype(float).type`.\n",
      "  from ._conv import register_converters as _register_converters\n"
     ]
    }
   ],
   "source": [
    "data = fits.open('data/obsvL1689_AV.fits')\n",
    "dendro = Dendrogram.load_from('data/obsvL1689_AV.hdf5')\n",
    "\n",
    "p_dendro = dendro.plotter()\n",
    "paths = p_dendro.get_lines().get_paths()"
   ]
  },
  {
   "cell_type": "code",
   "execution_count": 6,
   "metadata": {},
   "outputs": [
    {
     "data": {
      "text/plain": [
       "array([[1.6484375 , 7.14289618],\n",
       "       [1.6484375 , 7.95219183]])"
      ]
     },
     "execution_count": 6,
     "metadata": {},
     "output_type": "execute_result"
    }
   ],
   "source": [
    "paths[0].vertices"
   ]
  },
  {
   "cell_type": "code",
   "execution_count": 11,
   "metadata": {},
   "outputs": [
    {
     "data": {
      "image/png": "[encoded data removed]",
      "text/plain": [
       "<matplotlib.figure.Figure at 0x18161e4150>"
      ]
     },
     "metadata": {},
     "output_type": "display_data"
    }
   ],
   "source": [
    "fig = plt.figure()\n",
    "ax = fig.gca()\n",
    "\n",
    "for pix in np.array(range(len(paths))):\n",
    "    \n",
    "    vert = paths[pix].vertices\n",
    "    \n",
    "    ax.plot(vert[:, 0],\n",
    "            vert[:, 1],\n",
    "            color = 'k')\n",
    "    \n",
    "    \n",
    "ax.set_yscale('log')"
   ]
  },
  {
   "cell_type": "code",
   "execution_count": null,
   "metadata": {},
   "outputs": [],
   "source": []
  }
 ],
 "metadata": {
  "kernelspec": {
   "display_name": "Python [default]",
   "language": "python",
   "name": "python2"
  },
  "language_info": {
   "codemirror_mode": {
    "name": "ipython",
    "version": 2
   },
   "file_extension": ".py",
   "mimetype": "text/x-python",
   "name": "python",
   "nbconvert_exporter": "python",
   "pygments_lexer": "ipython2",
   "version": "2.7.14"
  }
 },
 "nbformat": 4,
 "nbformat_minor": 2
}
